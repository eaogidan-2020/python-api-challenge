{
 "cells": [
  {
   "cell_type": "markdown",
   "metadata": {},
   "source": [
    "# WeatherPy\n",
    "----\n",
    "\n",
    "#### Note\n",
    "* Instructions have been included for each segment. You do not have to follow them exactly, but they are included to help you think through the steps."
   ]
  },
  {
   "cell_type": "code",
   "execution_count": 5,
   "metadata": {
    "scrolled": true
   },
   "outputs": [],
   "source": [
    "# Dependencies and Setup\n",
    "import matplotlib.pyplot as plt\n",
    "import pandas as pd\n",
    "import numpy as np\n",
    "import requests\n",
    "import time\n",
    "from scipy.stats import linregress\n",
    "\n",
    "# Import API key\n",
    "from api_keys import weather_api_key\n",
    "\n",
    "# Incorporated citipy to determine city based on latitude and longitude\n",
    "from citipy import citipy\n",
    "\n",
    "# Output File (CSV)\n",
    "output_data_file = \"output_data/cities.csv\"\n",
    "\n",
    "# Range of latitudes and longitudes\n",
    "lat_range = (-90, 90)\n",
    "lng_range = (-180, 180)"
   ]
  },
  {
   "cell_type": "markdown",
   "metadata": {},
   "source": [
    "## Generate Cities List"
   ]
  },
  {
   "cell_type": "code",
   "execution_count": 6,
   "metadata": {},
   "outputs": [
    {
     "data": {
      "text/plain": [
       "609"
      ]
     },
     "execution_count": 6,
     "metadata": {},
     "output_type": "execute_result"
    }
   ],
   "source": [
    "# List for holding lat_lngs and cities\n",
    "lat_lngs = []\n",
    "cities = []\n",
    "\n",
    "# Create a set of random lat and lng combinations\n",
    "lats = np.random.uniform(lat_range[0], lat_range[1], size=1500)\n",
    "lngs = np.random.uniform(lng_range[0], lng_range[1], size=1500)\n",
    "lat_lngs = zip(lats, lngs)\n",
    "\n",
    "# Identify nearest city for each lat, lng combination\n",
    "for lat_lng in lat_lngs:\n",
    "    city = citipy.nearest_city(lat_lng[0], lat_lng[1]).city_name\n",
    "    \n",
    "    # If the city is unique, then add it to a our cities list\n",
    "    if city not in cities:\n",
    "        cities.append(city)\n",
    "\n",
    "# Print the city count to confirm sufficient count\n",
    "len(cities)"
   ]
  },
  {
   "cell_type": "markdown",
   "metadata": {},
   "source": [
    "### Perform API Calls\n",
    "* Perform a weather check on each city using a series of successive API calls.\n",
    "* Include a print log of each city as it'sbeing processed (with the city number and city name).\n"
   ]
  },
  {
   "cell_type": "code",
   "execution_count": 7,
   "metadata": {
    "scrolled": true
   },
   "outputs": [
    {
     "name": "stdout",
     "output_type": "stream",
     "text": [
      "0 changji\n",
      "1 bluff\n",
      "2 hermanus\n",
      "3 punta arenas\n",
      "4 marzuq\n",
      "5 constitucion\n",
      "6 taoudenni\n",
      "7 mar del plata\n",
      "8 albany\n",
      "9 barrow\n",
      "10 uzumlu\n",
      "Oops, that key doesn't exist.\n",
      "11 hithadhoo\n",
      "12 taolanaro\n",
      "Oops, that key doesn't exist.\n",
      "13 khatanga\n",
      "14 ushuaia\n",
      "15 burgersdorp\n",
      "16 nikolskoye\n",
      "17 tsihombe\n",
      "Oops, that key doesn't exist.\n",
      "18 georgetown\n",
      "19 chokurdakh\n",
      "20 rio grande\n",
      "21 kamaishi\n",
      "22 acapulco\n",
      "23 jamestown\n",
      "24 airai\n",
      "25 atuona\n",
      "26 puerto maldonado\n",
      "27 severo-kurilsk\n",
      "28 arraial do cabo\n",
      "29 tessalit\n",
      "30 butaritari\n",
      "31 bur gabo\n",
      "Oops, that key doesn't exist.\n",
      "32 hobart\n",
      "33 ust-kuyga\n",
      "34 paka\n",
      "35 ciales\n",
      "36 san cristobal\n",
      "37 hasaki\n",
      "38 kedrovyy\n",
      "39 faanui\n",
      "40 port alfred\n",
      "41 dukat\n",
      "42 shaunavon\n",
      "43 new norfolk\n",
      "44 punta alta\n",
      "45 perry hall\n",
      "46 naze\n",
      "47 namibe\n",
      "48 manado\n",
      "49 bose\n",
      "50 general roca\n",
      "51 vaini\n",
      "52 lavrentiya\n",
      "53 krasnoselkup\n",
      "54 cabedelo\n",
      "55 hoi an\n",
      "56 ribeira grande\n",
      "57 mitsamiouli\n",
      "58 vallenar\n",
      "59 bathsheba\n",
      "60 micheweni\n",
      "61 adrar\n",
      "62 sitka\n",
      "63 busselton\n",
      "64 harper\n",
      "65 sao filipe\n",
      "66 biak\n",
      "67 tual\n",
      "68 tasiilaq\n",
      "69 chagda\n",
      "Oops, that key doesn't exist.\n",
      "70 bafra\n",
      "71 lolua\n",
      "Oops, that key doesn't exist.\n",
      "72 axim\n",
      "73 mataura\n",
      "74 nador\n",
      "75 formosa do rio preto\n",
      "76 saint george\n",
      "77 alotau\n",
      "Oops, that key doesn't exist.\n",
      "78 half moon bay\n",
      "79 vanimo\n",
      "80 roma\n",
      "81 qaanaaq\n",
      "82 manaus\n",
      "83 fort nelson\n",
      "84 imeni poliny osipenko\n",
      "85 klaksvik\n",
      "86 hofn\n",
      "87 bredasdorp\n",
      "88 rawson\n",
      "89 saint-philippe\n",
      "90 east london\n",
      "91 souillac\n",
      "92 ketchikan\n",
      "93 saint-ambroise\n",
      "94 nanortalik\n",
      "95 saskylakh\n",
      "96 ushumun\n",
      "97 port lincoln\n",
      "98 cape town\n",
      "99 yatou\n",
      "100 orange\n",
      "101 villa carlos paz\n",
      "102 avarua\n",
      "103 tuktoyaktuk\n",
      "104 jining\n",
      "105 portland\n",
      "106 kindu\n",
      "107 chuy\n",
      "108 banjar\n",
      "109 hervey bay\n",
      "110 patitirion\n",
      "111 talcahuano\n",
      "112 dikson\n",
      "113 kodiak\n",
      "114 komsomolskiy\n",
      "115 marcona\n",
      "Oops, that key doesn't exist.\n",
      "116 san gabriel\n",
      "117 hilo\n",
      "118 los andes\n",
      "119 carnarvon\n",
      "120 yerani\n",
      "Oops, that key doesn't exist.\n",
      "121 port hedland\n",
      "122 oyugis\n",
      "123 pevek\n",
      "124 hamilton\n",
      "125 san pedro\n",
      "126 donghai\n",
      "127 vilyuysk\n",
      "128 mokhsogollokh\n",
      "129 keighley\n",
      "130 mattru\n",
      "131 nantucket\n",
      "132 saldanha\n",
      "133 plakhtiyivka\n",
      "134 belushya guba\n",
      "Oops, that key doesn't exist.\n",
      "135 phan thiet\n",
      "136 saint-gabriel\n",
      "137 ponta delgada\n",
      "138 alofi\n",
      "139 novo aripuana\n",
      "140 victoria\n",
      "141 beckley\n",
      "142 nizhneyansk\n",
      "Oops, that key doesn't exist.\n",
      "143 thompson\n",
      "144 sentyabrskiy\n",
      "Oops, that key doesn't exist.\n",
      "145 wajima\n",
      "146 lufilufi\n",
      "147 pisco\n",
      "148 bethel\n",
      "149 luderitz\n",
      "150 sisimiut\n",
      "151 jizan\n",
      "152 paamiut\n",
      "153 sao joao da barra\n",
      "154 caravelas\n",
      "155 rikitea\n",
      "156 cartagena del chaira\n",
      "157 hovd\n",
      "158 mahebourg\n",
      "159 ahipara\n",
      "160 vaitupu\n",
      "Oops, that key doesn't exist.\n",
      "161 attawapiskat\n",
      "Oops, that key doesn't exist.\n",
      "162 muros\n",
      "163 kavaratti\n",
      "164 sept-iles\n",
      "165 nortelandia\n",
      "166 garowe\n",
      "167 palu\n",
      "168 grand river south east\n",
      "Oops, that key doesn't exist.\n",
      "169 san patricio\n",
      "170 huarmey\n",
      "171 bjornevatn\n",
      "172 cabo san lucas\n",
      "173 erenhot\n",
      "174 chingirlau\n",
      "175 razole\n",
      "176 zunyi\n",
      "177 fukue\n",
      "178 tuatapere\n",
      "179 tautira\n",
      "180 road town\n",
      "181 madaoua\n",
      "182 nyanguge\n",
      "183 ewo\n",
      "184 marinhas\n",
      "185 los llanos de aridane\n",
      "186 monroe\n",
      "187 cockburn town\n",
      "188 ohafia\n",
      "189 manica\n",
      "190 illoqqortoormiut\n",
      "Oops, that key doesn't exist.\n",
      "191 santa maria do suacui\n",
      "192 bilibino\n",
      "193 puerto ayora\n",
      "194 cao bang\n",
      "195 babanusah\n",
      "Oops, that key doesn't exist.\n",
      "196 boundiali\n",
      "197 norman wells\n",
      "198 port elizabeth\n",
      "199 dawei\n",
      "200 peterhead\n",
      "201 ilulissat\n",
      "202 songea\n",
      "203 karauzyak\n",
      "Oops, that key doesn't exist.\n",
      "204 gweta\n",
      "205 chester\n",
      "206 ingersoll\n",
      "207 korla\n",
      "208 pokrovsk\n",
      "209 kruisfontein\n",
      "210 yeppoon\n",
      "211 kharan\n",
      "212 balykshi\n",
      "213 virginia beach\n",
      "214 cidreira\n",
      "215 barentsburg\n",
      "Oops, that key doesn't exist.\n",
      "216 tiksi\n",
      "217 eureka\n",
      "218 lensk\n",
      "219 upernavik\n",
      "220 saleaula\n",
      "Oops, that key doesn't exist.\n",
      "221 ikalamavony\n",
      "222 labuhan\n",
      "223 wau\n",
      "224 maniitsoq\n",
      "225 codrington\n",
      "226 dwarka\n",
      "227 tornio\n",
      "228 gravelbourg\n",
      "229 sidi ali\n",
      "230 bandarbeyla\n",
      "231 ban dung\n",
      "232 bengkulu\n",
      "233 mogocha\n",
      "234 almaznyy\n",
      "235 cherskiy\n",
      "236 ruhengeri\n",
      "237 buin\n",
      "238 skvyra\n",
      "239 lebu\n",
      "240 kandrian\n",
      "241 kavieng\n",
      "242 iqaluit\n",
      "243 kisangani\n",
      "244 tumannyy\n",
      "Oops, that key doesn't exist.\n",
      "245 darhan\n",
      "246 moa\n",
      "247 abancay\n",
      "248 havelock\n",
      "249 mys shmidta\n",
      "Oops, that key doesn't exist.\n",
      "250 shar\n",
      "251 college\n",
      "252 port macquarie\n",
      "253 yei\n",
      "254 nerchinskiy zavod\n",
      "255 hanyang\n",
      "256 mackenzie\n",
      "257 kovernino\n",
      "258 najran\n",
      "259 srednekolymsk\n",
      "260 koumac\n",
      "261 tawkar\n",
      "Oops, that key doesn't exist.\n",
      "262 richards bay\n",
      "263 bairiki\n",
      "264 halalo\n",
      "Oops, that key doesn't exist.\n",
      "265 harindanga\n",
      "266 arman\n",
      "267 kapaa\n",
      "268 opuwo\n",
      "269 alexandria\n",
      "270 san felipe\n",
      "271 kansanshi\n",
      "272 alice springs\n",
      "273 merauke\n",
      "274 labytnangi\n",
      "275 vardo\n",
      "276 ponta do sol\n",
      "277 makakilo city\n",
      "278 cassilandia\n",
      "279 lusambo\n",
      "280 palabuhanratu\n",
      "Oops, that key doesn't exist.\n",
      "281 temaraia\n",
      "Oops, that key doesn't exist.\n",
      "282 cap malheureux\n",
      "283 ojinaga\n",
      "284 esmeraldas\n",
      "285 tadpatri\n",
      "286 makokou\n",
      "287 diapaga\n",
      "288 paradwip\n",
      "Oops, that key doesn't exist.\n",
      "289 melito di porto salvo\n",
      "290 vao\n",
      "291 kuche\n",
      "Oops, that key doesn't exist.\n",
      "292 malanje\n",
      "293 berlin\n",
      "294 paratinga\n",
      "295 marsh harbour\n",
      "296 bambous virieux\n",
      "297 nishihara\n",
      "298 leningradskiy\n",
      "299 yerbogachen\n",
      "300 te anau\n",
      "301 nenjiang\n",
      "302 xai-xai\n",
      "303 torbay\n",
      "304 vestmanna\n",
      "305 kamenka\n",
      "306 bereda\n",
      "307 shenjiamen\n",
      "308 tsabong\n",
      "309 kutum\n",
      "310 pouebo\n",
      "311 geraldton\n",
      "312 samusu\n",
      "Oops, that key doesn't exist.\n",
      "313 skjervoy\n",
      "314 ambulu\n",
      "315 castro\n",
      "316 coquimbo\n",
      "317 asfi\n",
      "318 agadir\n",
      "319 athabasca\n",
      "320 zemio\n",
      "321 cayenne\n",
      "322 meulaboh\n",
      "323 santa isabel do rio negro\n",
      "324 moyale\n",
      "325 saint anthony\n",
      "326 roebourne\n",
      "327 rawannawi\n",
      "Oops, that key doesn't exist.\n",
      "328 suicheng\n",
      "329 wenatchee\n",
      "330 weligama\n",
      "331 whitehorse\n",
      "332 tura\n",
      "333 luanda\n",
      "334 chipata\n",
      "335 jalu\n",
      "336 labutta\n",
      "Oops, that key doesn't exist.\n",
      "337 narsaq\n",
      "338 slave lake\n",
      "339 laguna\n",
      "340 kissimmee\n",
      "341 jinchang\n",
      "342 avera\n",
      "343 tanout\n",
      "344 lorengau\n",
      "345 tabou\n",
      "346 grindavik\n",
      "347 esperance\n",
      "348 sakaiminato\n",
      "349 chocaman\n",
      "350 mitu\n",
      "351 shwebo\n",
      "352 aklavik\n",
      "353 puerto madero\n",
      "354 bay city\n",
      "355 bafoulabe\n",
      "356 paraiso\n",
      "357 asyut\n",
      "358 kuching\n",
      "359 tilichiki\n",
      "360 yumen\n",
      "361 kaitangata\n",
      "362 wonthaggi\n",
      "363 poso\n",
      "364 yellowknife\n",
      "365 shimoda\n",
      "366 porto empedocle\n",
      "367 keti bandar\n",
      "368 salinopolis\n",
      "369 yar-sale\n",
      "370 turukhansk\n",
      "371 gillette\n",
      "372 maceio\n",
      "373 ulladulla\n",
      "374 port shepstone\n",
      "375 vila velha\n",
      "376 nizamabad\n",
      "377 anloga\n",
      "378 pabna\n",
      "379 namatanai\n",
      "380 handwara\n",
      "Oops, that key doesn't exist.\n",
      "381 pandan\n",
      "382 sayansk\n",
      "383 kijang\n",
      "384 fare\n",
      "385 zyryanka\n",
      "386 pokhara\n",
      "387 buala\n",
      "388 antalaha\n",
      "389 bonavista\n",
      "390 moree\n",
      "391 puerto madryn\n",
      "392 okhotsk\n",
      "393 mabaruma\n",
      "394 saint-louis\n",
      "395 saint-leu\n",
      "396 provideniya\n",
      "397 haines junction\n",
      "398 mehamn\n",
      "399 amderma\n",
      "Oops, that key doesn't exist.\n",
      "400 srandakan\n",
      "401 madang\n",
      "402 svetlogorsk\n",
      "403 parauna\n",
      "404 saint-pierre\n",
      "405 jamui\n",
      "406 ust-kamchatsk\n",
      "Oops, that key doesn't exist.\n",
      "407 muyezerskiy\n",
      "408 hokitika\n",
      "409 lasa\n",
      "410 gasa\n",
      "411 maghama\n",
      "Oops, that key doesn't exist.\n",
      "412 nova vicosa\n",
      "413 katherine\n",
      "414 surt\n",
      "415 helena\n",
      "416 alta floresta\n",
      "417 nioro\n",
      "418 sonoita\n",
      "419 jiazi\n",
      "420 chumikan\n",
      "421 promysla\n",
      "Oops, that key doesn't exist.\n",
      "422 yirol\n",
      "Oops, that key doesn't exist.\n",
      "423 santa cruz del sur\n",
      "424 isangel\n",
      "425 longyearbyen\n",
      "426 libreville\n",
      "427 dunedin\n",
      "428 markova\n",
      "429 maneromango\n",
      "430 marsaxlokk\n",
      "431 mao\n",
      "432 kigoma\n",
      "433 conceicao do araguaia\n",
      "434 geresk\n",
      "Oops, that key doesn't exist.\n",
      "435 guarapari\n",
      "436 westlock\n",
      "437 lata\n",
      "438 manzhouli\n",
      "439 pangnirtung\n",
      "440 beringovskiy\n",
      "441 hualmay\n",
      "442 olinda\n",
      "443 salekhard\n",
      "444 berlevag\n",
      "445 mezhova\n",
      "446 pringsewu\n",
      "447 santos dumont\n",
      "448 kiama\n",
      "449 sao jose da coroa grande\n",
      "450 bocanda\n",
      "451 boden\n",
      "452 ostrovnoy\n",
      "453 urumqi\n",
      "454 wahiawa\n",
      "455 tucuman\n",
      "456 nakusp\n",
      "457 kathmandu\n",
      "458 plettenberg bay\n",
      "459 sao raimundo nonato\n",
      "460 atar\n",
      "461 abu dhabi\n",
      "462 saint-paul\n",
      "463 union\n",
      "464 lichinga\n",
      "465 sambava\n",
      "466 paso de carrasco\n",
      "467 santa cruz\n",
      "468 ribeira brava\n",
      "469 high level\n",
      "470 jacareacanga\n",
      "471 miri\n",
      "472 susangerd\n",
      "473 sampit\n",
      "474 calatayud\n",
      "475 sistranda\n",
      "476 elbrus\n",
      "477 gardan diwal\n",
      "Oops, that key doesn't exist.\n",
      "478 cam pha\n",
      "Oops, that key doesn't exist.\n",
      "479 katsuura\n",
      "480 banyo\n",
      "481 clyde river\n",
      "482 nalut\n",
      "483 uruzgan\n",
      "484 maldonado\n",
      "485 ituni\n",
      "Oops, that key doesn't exist.\n",
      "486 ventspils\n",
      "487 teofilo otoni\n",
      "488 san quintin\n",
      "489 boguchany\n",
      "490 beloha\n",
      "491 san andres\n",
      "492 severnyy\n",
      "493 shitanjing\n",
      "494 guerrero negro\n",
      "495 dingle\n",
      "496 laiagam\n",
      "Oops, that key doesn't exist.\n",
      "497 havoysund\n",
      "498 husavik\n",
      "499 kayes\n",
      "500 kendal\n",
      "501 kamiiso\n",
      "502 brae\n",
      "503 mandalgovi\n",
      "504 kimbe\n",
      "505 west wendover\n",
      "506 boende\n",
      "507 fairbanks\n",
      "508 kieta\n",
      "509 guozhen\n",
      "510 padang\n",
      "511 mangrol\n",
      "512 kara\n",
      "513 amapa\n",
      "514 deputatskiy\n",
      "515 ucluelet\n",
      "516 manjacaze\n",
      "517 meyungs\n",
      "Oops, that key doesn't exist.\n",
      "518 jacksonville beach\n",
      "519 luwuk\n",
      "520 zhezkazgan\n",
      "521 kashi\n"
     ]
    },
    {
     "name": "stdout",
     "output_type": "stream",
     "text": [
      "522 puerto colombia\n",
      "523 hounde\n",
      "524 lapua\n",
      "525 odienne\n",
      "526 motala\n",
      "527 bilma\n",
      "528 apatou\n",
      "529 montlucon\n",
      "530 filingue\n",
      "531 iwanai\n",
      "532 talnakh\n",
      "533 gao\n",
      "534 powell\n",
      "535 nizwa\n",
      "536 carlsbad\n",
      "537 innisfail\n",
      "538 bardiyah\n",
      "539 baykit\n",
      "540 lagoa\n",
      "541 faya\n",
      "542 banmo\n",
      "Oops, that key doesn't exist.\n",
      "543 aksu\n",
      "544 anadyr\n",
      "545 matay\n",
      "546 lazarev\n",
      "547 cascais\n",
      "548 mananjary\n",
      "549 la ronge\n",
      "550 komsomolets\n",
      "551 kang\n",
      "552 dali\n",
      "553 dongsheng\n",
      "554 bubaque\n",
      "555 frederikshavn\n",
      "556 yulara\n",
      "557 omboue\n",
      "558 trincomalee\n",
      "559 waipawa\n",
      "560 vila franca do campo\n",
      "561 liverpool\n",
      "562 jaguaruana\n",
      "563 vostok\n",
      "564 loukhi\n",
      "565 bidar\n",
      "566 grand-santi\n",
      "567 flin flon\n",
      "568 pirovskoye\n",
      "569 sawakin\n",
      "570 sabha\n",
      "571 kiruna\n",
      "572 henzada\n",
      "Oops, that key doesn't exist.\n",
      "573 ashtabula\n",
      "574 ingham\n",
      "575 phan rang\n",
      "Oops, that key doesn't exist.\n",
      "576 gat\n",
      "577 camacha\n",
      "578 tamandare\n",
      "579 toppenish\n",
      "580 conceicao da barra\n",
      "581 araguacu\n",
      "582 pangai\n",
      "583 bolungarvik\n",
      "Oops, that key doesn't exist.\n",
      "584 khash\n",
      "585 hirara\n",
      "586 zorritos\n",
      "587 worthington\n",
      "588 maningrida\n",
      "589 shache\n",
      "590 arlit\n",
      "591 huazolotitlan\n",
      "Oops, that key doesn't exist.\n",
      "592 otradnoye\n",
      "593 zdvinsk\n",
      "594 ayan\n",
      "595 thongwa\n",
      "596 pemba\n",
      "597 kahului\n",
      "598 bundaberg\n",
      "599 kenai\n",
      "600 posse\n",
      "601 lompoc\n",
      "602 trapani\n",
      "603 gamba\n",
      "604 bintulu\n",
      "605 nahrin\n",
      "606 nouadhibou\n",
      "607 riyadh\n",
      "608 mogadishu\n",
      "             city  latitude     lon   temp humidity visibility cloudiness  \\\n",
      "0         changji       NaN   87.32  -2.20       84        900         40   \n",
      "1           bluff       NaN  168.33  54.00       84      10000        100   \n",
      "2        hermanus       NaN   19.23  77.00       53      10000         16   \n",
      "3    punta arenas       NaN  -70.92  50.00       53      10000         40   \n",
      "4          marzuq       NaN   46.47  65.80       49      10000          0   \n",
      "..            ...       ...     ...    ...      ...        ...        ...   \n",
      "604       bintulu       NaN  113.03  78.39       94      10000         40   \n",
      "605        nahrin       NaN   69.13  35.82       63      10000          5   \n",
      "606    nouadhibou       NaN  -17.03  75.20       47       7000          0   \n",
      "607        riyadh       NaN   46.72  77.00       29      10000          0   \n",
      "608     mogadishu       NaN   45.34  82.40       65      10000         20   \n",
      "\n",
      "     speed    lat  \n",
      "0     2.24  44.02  \n",
      "1     4.00 -46.60  \n",
      "2     5.01 -34.42  \n",
      "3    32.21 -53.15  \n",
      "4     9.44  14.40  \n",
      "..     ...    ...  \n",
      "604   4.50   3.17  \n",
      "605   6.15  36.06  \n",
      "606  19.46  20.93  \n",
      "607   3.36  24.69  \n",
      "608  16.11   2.04  \n",
      "\n",
      "[609 rows x 9 columns]\n"
     ]
    }
   ],
   "source": [
    "df = pd.DataFrame(columns = ['city', 'latitude', 'lon', 'temp', 'humidity', 'visibility','cloudiness', 'speed']) \n",
    "  \n",
    "# append rows to an empty DataFrame \n",
    "    \n",
    "index = 0\n",
    "\n",
    "for city in cities:\n",
    "    url = f\"http://api.openweathermap.org/data/2.5/weather?q={city}&appid={weather_api_key}&units=imperial\"\n",
    "    \n",
    "    print(index, city)\n",
    "    index = index + 1\n",
    "    \n",
    "    data = requests.get(url).json()\n",
    "   \n",
    "    try:\n",
    "        latitude = data[\"coord\"][\"lat\"]\n",
    "        lon = data[\"coord\"][\"lon\"]\n",
    "        temp = data[\"main\"][\"temp\"]\n",
    "        humidity = data[\"main\"][\"humidity\"]\n",
    "        cloudiness = data[\"clouds\"][\"all\"]\n",
    "        visibility = data[\"visibility\"]\n",
    "        wind_speed =data[\"wind\"][\"speed\"]\n",
    "            \n",
    "    except KeyError:\n",
    "        print(\"Oops, that key doesn't exist.\")\n",
    "    \n",
    "   \n",
    "    df = df.append({'city':city, 'lat': latitude,'lon':lon, 'temp':temp, 'humidity':humidity, 'cloudiness':cloudiness, 'speed':wind_speed, 'visibility':visibility},  \n",
    "                ignore_index = True) \n",
    "\n",
    "print(df) "
   ]
  },
  {
   "cell_type": "markdown",
   "metadata": {},
   "source": [
    "### Convert Raw Data to DataFrame\n",
    "* Export the city data into a .csv.\n",
    "* Display the DataFrame"
   ]
  },
  {
   "cell_type": "code",
   "execution_count": 8,
   "metadata": {},
   "outputs": [],
   "source": [
    "citydata = \"data/cities.csv\" \n",
    "df.to_csv(citydata)"
   ]
  },
  {
   "cell_type": "code",
   "execution_count": null,
   "metadata": {},
   "outputs": [],
   "source": []
  },
  {
   "cell_type": "code",
   "execution_count": null,
   "metadata": {},
   "outputs": [],
   "source": []
  },
  {
   "cell_type": "markdown",
   "metadata": {},
   "source": [
    "## Inspect the data and remove the cities where the humidity > 100%.\n",
    "----\n",
    "Skip this step if there are no cities that have humidity > 100%. "
   ]
  },
  {
   "cell_type": "code",
   "execution_count": 9,
   "metadata": {},
   "outputs": [
    {
     "data": {
      "text/html": [
       "<div>\n",
       "<style scoped>\n",
       "    .dataframe tbody tr th:only-of-type {\n",
       "        vertical-align: middle;\n",
       "    }\n",
       "\n",
       "    .dataframe tbody tr th {\n",
       "        vertical-align: top;\n",
       "    }\n",
       "\n",
       "    .dataframe thead th {\n",
       "        text-align: right;\n",
       "    }\n",
       "</style>\n",
       "<table border=\"1\" class=\"dataframe\">\n",
       "  <thead>\n",
       "    <tr style=\"text-align: right;\">\n",
       "      <th></th>\n",
       "      <th>city</th>\n",
       "      <th>latitude</th>\n",
       "      <th>lon</th>\n",
       "      <th>temp</th>\n",
       "      <th>humidity</th>\n",
       "      <th>visibility</th>\n",
       "      <th>cloudiness</th>\n",
       "      <th>speed</th>\n",
       "      <th>lat</th>\n",
       "    </tr>\n",
       "  </thead>\n",
       "  <tbody>\n",
       "  </tbody>\n",
       "</table>\n",
       "</div>"
      ],
      "text/plain": [
       "Empty DataFrame\n",
       "Columns: [city, latitude, lon, temp, humidity, visibility, cloudiness, speed, lat]\n",
       "Index: []"
      ]
     },
     "execution_count": 9,
     "metadata": {},
     "output_type": "execute_result"
    }
   ],
   "source": [
    "bad_rows = df.query(\"humidity > 100\")\n",
    "\n",
    "bad_rows"
   ]
  },
  {
   "cell_type": "code",
   "execution_count": 10,
   "metadata": {},
   "outputs": [],
   "source": [
    "#  Get the indices of cities that have humidity over 100%.\n"
   ]
  },
  {
   "cell_type": "code",
   "execution_count": 11,
   "metadata": {},
   "outputs": [],
   "source": [
    "# Make a new DataFrame equal to the city data to drop all humidity outliers by index.\n",
    "# Passing \"inplace=False\" will make a copy of the city_data DataFrame, which we call \"clean_city_data\".\n"
   ]
  },
  {
   "cell_type": "code",
   "execution_count": 12,
   "metadata": {
    "scrolled": true
   },
   "outputs": [],
   "source": [
    "\n",
    "\n",
    "# Set the upper and lower limits of our y axis\n",
    "# plt.ylim(0,120)\n",
    "\n",
    "# Set the upper and lower limits of our x axis\n",
    "# plt.xlim(-60,180)\n",
    "\n",
    "# Create a title, x label, and y label for our chart\n",
    "\n"
   ]
  },
  {
   "cell_type": "markdown",
   "metadata": {},
   "source": [
    "## Plotting the Data\n",
    "* Use proper labeling of the plots using plot titles (including date of analysis) and axes labels.\n",
    "* Save the plotted figures as .pngs."
   ]
  },
  {
   "cell_type": "markdown",
   "metadata": {},
   "source": [
    "## Latitude vs. Temperature Plot"
   ]
  },
  {
   "cell_type": "code",
   "execution_count": 13,
   "metadata": {
    "scrolled": true
   },
   "outputs": [
    {
     "data": {
      "image/png": "[encoded data removed]",
      "text/plain": [
       "<Figure size 432x288 with 1 Axes>"
      ]
     },
     "metadata": {
      "needs_background": "light"
     },
     "output_type": "display_data"
    }
   ],
   "source": [
    "plt.scatter(df['lat'],df['temp'], marker=\"o\", facecolors=\"blue\", edgecolors=\"black\")\n",
    "plt.title(\"Latitude vs temp\")\n",
    "plt.xlabel(\"Latitude\")\n",
    "plt.ylabel(\"Max-temp\")\n",
    "plt.savefig(\"location1.png\", format=\"png\")"
   ]
  },
  {
   "cell_type": "markdown",
   "metadata": {},
   "source": [
    "## Latitude vs. Humidity Plot"
   ]
  },
  {
   "cell_type": "code",
   "execution_count": 14,
   "metadata": {},
   "outputs": [
    {
     "data": {
      "image/png": "[encoded data removed]",
      "text/plain": [
       "<Figure size 432x288 with 1 Axes>"
      ]
     },
     "metadata": {
      "needs_background": "light"
     },
     "output_type": "display_data"
    }
   ],
   "source": [
    "plt.scatter(df['lat'],df['humidity'], marker=\"o\", facecolors=\"blue\", edgecolors=\"black\")\n",
    "plt.title(\"Latitude vs humidity\")\n",
    "plt.xlabel(\"Latitude\")\n",
    "plt.ylabel(\"humidity\")\n",
    "plt.savefig(\"location2.png\", format=\"png\")"
   ]
  },
  {
   "cell_type": "markdown",
   "metadata": {},
   "source": [
    "## Latitude vs. Cloudiness Plot"
   ]
  },
  {
   "cell_type": "code",
   "execution_count": 15,
   "metadata": {},
   "outputs": [
    {
     "data": {
      "image/png": "[encoded data removed]",
      "text/plain": [
       "<Figure size 432x288 with 1 Axes>"
      ]
     },
     "metadata": {
      "needs_background": "light"
     },
     "output_type": "display_data"
    }
   ],
   "source": [
    "plt.scatter(df['lat'],df['cloudiness'], marker=\"o\", facecolors=\"blue\", edgecolors=\"black\")\n",
    "plt.title(\"Latitude vs cloudiness\")\n",
    "plt.xlabel(\"Latitude\")\n",
    "plt.ylabel(\"cloudiness\")\n",
    "plt.savefig(\"location3.png\", format=\"png\")"
   ]
  },
  {
   "cell_type": "markdown",
   "metadata": {},
   "source": [
    "## Latitude vs. Wind Speed Plot"
   ]
  },
  {
   "cell_type": "code",
   "execution_count": 16,
   "metadata": {},
   "outputs": [
    {
     "data": {
      "image/png": "[encoded data removed]",
      "text/plain": [
       "<Figure size 432x288 with 1 Axes>"
      ]
     },
     "metadata": {
      "needs_background": "light"
     },
     "output_type": "display_data"
    }
   ],
   "source": [
    "plt.scatter(df['lat'],df['speed'], marker=\"o\", facecolors=\"blue\", edgecolors=\"black\")\n",
    "plt.title(\"Latitude vs speed\")\n",
    "plt.xlabel(\"Latitude\")\n",
    "plt.ylabel(\"speed\")\n",
    "plt.savefig(\"location4.png\", format=\"png\")"
   ]
  },
  {
   "cell_type": "markdown",
   "metadata": {},
   "source": [
    "## Linear Regression"
   ]
  },
  {
   "cell_type": "code",
   "execution_count": 17,
   "metadata": {},
   "outputs": [],
   "source": [
    "Northern_data = df.query(\"lat >= 0\")\n",
    "southern_data = df.query(\"lat < 0\")"
   ]
  },
  {
   "cell_type": "markdown",
   "metadata": {},
   "source": [
    "####  Northern Hemisphere - Max Temp vs. Latitude Linear Regression"
   ]
  },
  {
   "cell_type": "code",
   "execution_count": 18,
   "metadata": {},
   "outputs": [
    {
     "data": {
      "image/png": "[encoded data removed]",
      "text/plain": [
       "<Figure size 432x288 with 1 Axes>"
      ]
     },
     "metadata": {
      "needs_background": "light"
     },
     "output_type": "display_data"
    }
   ],
   "source": [
    "plt.scatter(Northern_data['lat'],Northern_data['temp'], marker=\"o\", facecolors=\"blue\", edgecolors=\"black\")\n",
    "plt.title(\"Latitude vs temp in Northern_hemisphere\")\n",
    "plt.xlabel(\"Latitude\")\n",
    "plt.ylabel(\"Max-temp\")\n",
    "plt.savefig(\"location5.png\", format=\"png\")"
   ]
  },
  {
   "cell_type": "markdown",
   "metadata": {},
   "source": [
    "####  Southern Hemisphere - Max Temp vs. Latitude Linear Regression"
   ]
  },
  {
   "cell_type": "code",
   "execution_count": 19,
   "metadata": {},
   "outputs": [
    {
     "data": {
      "image/png": "[encoded data removed]",
      "text/plain": [
       "<Figure size 432x288 with 1 Axes>"
      ]
     },
     "metadata": {
      "needs_background": "light"
     },
     "output_type": "display_data"
    }
   ],
   "source": [
    "plt.scatter(southern_data['lat'],southern_data['temp'], marker=\"o\", facecolors=\"blue\", edgecolors=\"black\")\n",
    "plt.title(\"Latitude vs temp in Southern_hemisphere\")\n",
    "plt.xlabel(\"Latitude\")\n",
    "plt.ylabel(\"Max-temp\")\n",
    "plt.savefig(\"location6.png\", format=\"png\")"
   ]
  },
  {
   "cell_type": "markdown",
   "metadata": {},
   "source": [
    "####  Northern Hemisphere - Humidity (%) vs. Latitude Linear Regression"
   ]
  },
  {
   "cell_type": "code",
   "execution_count": 20,
   "metadata": {},
   "outputs": [
    {
     "data": {
      "image/png": "[encoded data removed]",
      "text/plain": [
       "<Figure size 432x288 with 1 Axes>"
      ]
     },
     "metadata": {
      "needs_background": "light"
     },
     "output_type": "display_data"
    }
   ],
   "source": [
    "plt.scatter(Northern_data['humidity'],Northern_data['lat'], marker=\"o\", facecolors=\"blue\", edgecolors=\"black\")\n",
    "plt.title(\"humidity vs latitude in Northern hemisphere\")\n",
    "plt.xlabel(\"humidity\")\n",
    "plt.ylabel(\"latitude\")\n",
    "plt.savefig(\"location7.png\", format=\"png\")\n"
   ]
  },
  {
   "cell_type": "markdown",
   "metadata": {},
   "source": [
    "####  Southern Hemisphere - Humidity (%) vs. Latitude Linear Regression"
   ]
  },
  {
   "cell_type": "code",
   "execution_count": 21,
   "metadata": {},
   "outputs": [
    {
     "data": {
      "image/png": "[encoded data removed]",
      "text/plain": [
       "<Figure size 432x288 with 1 Axes>"
      ]
     },
     "metadata": {
      "needs_background": "light"
     },
     "output_type": "display_data"
    }
   ],
   "source": [
    "plt.scatter(southern_data['humidity'],southern_data['lat'], marker=\"o\", facecolors=\"blue\", edgecolors=\"black\")\n",
    "plt.title(\"humidity vs latitude in southern hemisphere\")\n",
    "plt.xlabel(\"humidity\")\n",
    "plt.ylabel(\"latitude\")\n",
    "plt.savefig(\"location8.png\", format=\"png\")"
   ]
  },
  {
   "cell_type": "markdown",
   "metadata": {},
   "source": [
    "####  Northern Hemisphere - Cloudiness (%) vs. Latitude Linear Regression"
   ]
  },
  {
   "cell_type": "code",
   "execution_count": 22,
   "metadata": {},
   "outputs": [
    {
     "data": {
      "image/png": "[encoded data removed]",
      "text/plain": [
       "<Figure size 432x288 with 1 Axes>"
      ]
     },
     "metadata": {
      "needs_background": "light"
     },
     "output_type": "display_data"
    }
   ],
   "source": [
    "plt.scatter(Northern_data['cloudiness'],Northern_data['lat'], marker=\"o\", facecolors=\"blue\", edgecolors=\"black\")\n",
    "plt.title(\"cloudiness vs latitude in Northern hemisphere\")\n",
    "plt.xlabel(\"cloudiness\")\n",
    "plt.ylabel(\"latitude\")\n",
    "plt.savefig(\"location9.png\", format=\"png\")\n",
    "\n"
   ]
  },
  {
   "cell_type": "markdown",
   "metadata": {},
   "source": [
    "####  Southern Hemisphere - Cloudiness (%) vs. Latitude Linear Regression"
   ]
  },
  {
   "cell_type": "code",
   "execution_count": 23,
   "metadata": {},
   "outputs": [
    {
     "data": {
      "image/png": "[encoded data removed]",
      "text/plain": [
       "<Figure size 432x288 with 1 Axes>"
      ]
     },
     "metadata": {
      "needs_background": "light"
     },
     "output_type": "display_data"
    }
   ],
   "source": [
    "plt.scatter(southern_data['cloudiness'],southern_data['lat'], marker=\"o\", facecolors=\"blue\", edgecolors=\"black\")\n",
    "plt.title(\"cloudiness vs latitude in southern hemisphere\")\n",
    "plt.xlabel(\"cloudiness\")\n",
    "plt.ylabel(\"latitude\")\n",
    "plt.savefig(\"location10.png\", format=\"png\")"
   ]
  },
  {
   "cell_type": "markdown",
   "metadata": {},
   "source": [
    "####  Northern Hemisphere - Wind Speed (mph) vs. Latitude Linear Regression"
   ]
  },
  {
   "cell_type": "code",
   "execution_count": 24,
   "metadata": {},
   "outputs": [
    {
     "data": {
      "image/png": "[encoded data removed]",
      "text/plain": [
       "<Figure size 432x288 with 1 Axes>"
      ]
     },
     "metadata": {
      "needs_background": "light"
     },
     "output_type": "display_data"
    }
   ],
   "source": [
    "plt.scatter(Northern_data['speed'],Northern_data['lat'], marker=\"o\", facecolors=\"blue\", edgecolors=\"black\")\n",
    "plt.title(\"wind-speed vs latitude in Northern hemisphere\")\n",
    "plt.xlabel(\"wind-speed\")\n",
    "plt.ylabel(\"latitude\")\n",
    "plt.savefig(\"location11.png\", format=\"png\")"
   ]
  },
  {
   "cell_type": "markdown",
   "metadata": {},
   "source": [
    "####  Southern Hemisphere - Wind Speed (mph) vs. Latitude Linear Regression"
   ]
  },
  {
   "cell_type": "code",
   "execution_count": 25,
   "metadata": {},
   "outputs": [
    {
     "data": {
      "image/png": "[encoded data removed]",
      "text/plain": [
       "<Figure size 432x288 with 1 Axes>"
      ]
     },
     "metadata": {
      "needs_background": "light"
     },
     "output_type": "display_data"
    }
   ],
   "source": [
    "plt.scatter(southern_data['speed'],southern_data['lat'], marker=\"o\", facecolors=\"blue\", edgecolors=\"black\")\n",
    "plt.title(\"wind-speed vs latitude in southern hemisphere\")\n",
    "plt.xlabel(\"wind-speed\")\n",
    "plt.ylabel(\"latitude\")\n",
    "plt.savefig(\"location12.png\", format=\"png\")"
   ]
  },
  {
   "cell_type": "code",
   "execution_count": null,
   "metadata": {},
   "outputs": [],
   "source": []
  },
  {
   "cell_type": "code",
   "execution_count": null,
   "metadata": {},
   "outputs": [],
   "source": []
  }
 ],
 "metadata": {
  "anaconda-cloud": {},
  "kernel_info": {
   "name": "python3"
  },
  "kernelspec": {
   "display_name": "Python 3",
   "language": "python",
   "name": "python3"
  },
  "language_info": {
   "codemirror_mode": {
    "name": "ipython",
    "version": 3
   },
   "file_extension": ".py",
   "mimetype": "text/x-python",
   "name": "python",
   "nbconvert_exporter": "python",
   "pygments_lexer": "ipython3",
   "version": "3.8.3"
  },
  "latex_envs": {
   "LaTeX_envs_menu_present": true,
   "autoclose": false,
   "autocomplete": true,
   "bibliofile": "biblio.bib",
   "cite_by": "apalike",
   "current_citInitial": 1,
   "eqLabelWithNumbers": true,
   "eqNumInitial": 1,
   "hotkeys": {
    "equation": "Ctrl-E",
    "itemize": "Ctrl-I"
   },
   "labels_anchors": false,
   "latex_user_defs": false,
   "report_style_numbering": false,
   "user_envs_cfg": false
  },
  "nteract": {
   "version": "0.12.3"
  }
 },
 "nbformat": 4,
 "nbformat_minor": 2
}
